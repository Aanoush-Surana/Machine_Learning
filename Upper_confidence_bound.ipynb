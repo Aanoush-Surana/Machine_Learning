{
  "nbformat": 4,
  "nbformat_minor": 0,
  "metadata": {
    "colab": {
      "provenance": [],
      "authorship_tag": "ABX9TyMjkC4CgRIM029Eealnyuwu",
      "include_colab_link": true
    },
    "kernelspec": {
      "name": "python3",
      "display_name": "Python 3"
    },
    "language_info": {
      "name": "python"
    }
  },
  "cells": [
    {
      "cell_type": "markdown",
      "metadata": {
        "id": "view-in-github",
        "colab_type": "text"
      },
      "source": [
        "<a href=\"https://colab.research.google.com/github/Aanoush-Surana/Machine_Learning/blob/main/Upper_confidence_bound.ipynb\" target=\"_parent\"><img src=\"https://colab.research.google.com/assets/colab-badge.svg\" alt=\"Open In Colab\"/></a>"
      ]
    },
    {
      "cell_type": "markdown",
      "source": [
        "IMPORTING LIBRARIES"
      ],
      "metadata": {
        "id": "ruzrLYBJFS8T"
      }
    },
    {
      "cell_type": "code",
      "execution_count": 21,
      "metadata": {
        "id": "baFCR1YMFOrv"
      },
      "outputs": [],
      "source": [
        "import numpy as np\n",
        "import pandas as pd\n",
        "import matplotlib.pyplot as plt"
      ]
    },
    {
      "cell_type": "markdown",
      "source": [
        "IMPORTING DATASET"
      ],
      "metadata": {
        "id": "9u31Za4eF6jF"
      }
    },
    {
      "cell_type": "code",
      "source": [
        "dataset = pd.read_csv('Ads_CTR_Optimisation.csv')"
      ],
      "metadata": {
        "id": "DmpLaGL0F9EK"
      },
      "execution_count": 22,
      "outputs": []
    },
    {
      "cell_type": "markdown",
      "source": [
        "IMPLEMENTING UCB"
      ],
      "metadata": {
        "id": "I9Tfv25eH3LB"
      }
    },
    {
      "cell_type": "code",
      "source": [
        "import math\n",
        "\n",
        "N = 10000 # Represents the total users/rounds\n",
        "d = 10 # Represents the total ads\n",
        "ads_selected=[] # Represents a List which contains the total ads selected over rounds\n",
        "# (By the end will represent the total ads selected in 10000 rounds)\n",
        "# Meaning: If ad 3 is selected in round 1, then ads_selected[0] = 3.\n",
        "\n",
        "\n",
        "number_of_selections = [0]*d # List to count the number of times each ad was selected\n",
        "\n",
        "\n",
        "sum_of_rewards = [0]*d # List to store the sum of rewards (clicks) received from each ad\n",
        "# Meaning: If ad 2 was shown 5 times and clicked 3 times, sum_of_rewards[2] = 3.\n",
        "\n",
        "\n",
        "total_rewards = 0 # Total reward accumulated from all ads over all rounds\n",
        "# Purpose: Keeps track of how many total clicks were received across all rounds.\n",
        "\n",
        "for n in range (0,N):\n",
        "  ad = 0\n",
        "  max_upper_bound = 0\n",
        "\n",
        "  # ad: Will store the index of the best ad to show in this round.\n",
        "  # max_upper_bound: Stores the highest UCB value found so far for comparison.\n",
        "\n",
        "  for i in range (0,d):\n",
        "\n",
        "    # Purpose: Loop through all 10 ads (from index 0 to 9) to find the one with the highest UCB.\n",
        "\n",
        "    if (number_of_selections[i] > 0): # If the ad has been selected at least once:\n",
        "\n",
        "      # Since we only calculate average reward and confidence bounds for ads already shown.\n",
        "\n",
        "      avg_reward = sum_of_rewards[i] / number_of_selections[i]\n",
        "\n",
        "      # Purpose: Estimate how well the ad is performing.\n",
        "      # Meaning: If ad was clicked 3 times out of 10, then avg = 0.3\n",
        "\n",
        "      delta_i = math.sqrt(3/2 * math.log(n+1) / number_of_selections[i])\n",
        "\n",
        "      #  Calculate the confidence interval (exploration term)\n",
        "      #  Purpose: Add an exploration bonus — the less you've tried an ad, the bigger this term is.\n",
        "      #  Why? Helps explore lesser-used ads instead of always choosing the best-known.\n",
        "\n",
        "      UB = avg_reward + delta_i\n",
        "\n",
        "      # Compute the Upper Confidence Bound\n",
        "      # Purpose: Combine exploitation (avg reward) and exploration (delta).\n",
        "      # Meaning: Ad with highest UB is considered best candidate.\n",
        "\n",
        "    else:\n",
        "\n",
        "      # If ad i has never been shown.\n",
        "      # Purpose: Force this ad to be selected at least once by giving it a huge UCB value.\n",
        "      # 1e400: Very large number → ensures that all ads are explored at least once.\n",
        "\n",
        "      # After all the ads are iterated once this condition will be never satisfied\n",
        "      UB = 1e400\n",
        "    if (UB > max_upper_bound):\n",
        "      # Purpose: Keep track of the ad with the best UCB so far in this round.\n",
        "      max_upper_bound = UB\n",
        "      ad = i\n",
        "\n",
        "  ads_selected.append(ad)\n",
        "  number_of_selections[ad] = number_of_selections[ad] + 1 # Increment how many times this ad has been shown.\n",
        "  reward = dataset.values[n , ad] # Get the reward (click or not) for showing ad ad to user n.\n",
        "  sum_of_rewards[ad] = sum_of_rewards[ad] + reward # Update total reward received for this particular ad.\n",
        "  total_rewards = total_rewards + reward # Update total reward received for this particular ad."
      ],
      "metadata": {
        "id": "t0zcBMJWIAJD"
      },
      "execution_count": 23,
      "outputs": []
    },
    {
      "cell_type": "markdown",
      "source": [
        "VISUALISING RESULTS"
      ],
      "metadata": {
        "id": "NCxiKp1RH7ni"
      }
    },
    {
      "cell_type": "code",
      "source": [
        "plt.hist(ads_selected)\n",
        "plt.title('Histogram of Ad Selection')\n",
        "plt.xlabel('Ads')\n",
        "plt.ylabel('Number of Times each Ad was Selected ')\n",
        "plt.show()"
      ],
      "metadata": {
        "colab": {
          "base_uri": "https://localhost:8080/",
          "height": 472
        },
        "id": "5a7dABVMIAcb",
        "outputId": "94b00243-b8b0-4226-c689-13a688b4a08e"
      },
      "execution_count": 26,
      "outputs": [
        {
          "output_type": "display_data",
          "data": {
            "text/plain": [
              "<Figure size 640x480 with 1 Axes>"
            ],
            "image/png": "[encoded data removed]"
          },
          "metadata": {}
        }
      ]
    }
  ]
}